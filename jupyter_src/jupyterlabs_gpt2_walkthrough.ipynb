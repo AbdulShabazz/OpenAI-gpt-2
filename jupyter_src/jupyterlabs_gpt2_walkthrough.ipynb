{
 "cells": [
  {
   "cell_type": "markdown",
   "id": "4de325a3-5509-4bd9-829d-6ed40d06f522",
   "metadata": {},
   "source": [
    "## Standard module imports"
   ]
  },
  {
   "cell_type": "code",
   "execution_count": null,
   "id": "17a928f1-3eac-49c7-b087-764821c079e7",
   "metadata": {},
   "outputs": [],
   "source": [
    "import os\n",
    "import regex\n",
    "import json\n",
    "import torch as pytorch\n",
    "import numpy as np\n",
    "import tensorflow as tf"
   ]
  }
 ],
 "metadata": {
  "kernelspec": {
   "display_name": "Python 3 (ipykernel)",
   "language": "python",
   "name": "python3"
  },
  "language_info": {
   "codemirror_mode": {
    "name": "ipython",
    "version": 3
   },
   "file_extension": ".py",
   "mimetype": "text/x-python",
   "name": "python",
   "nbconvert_exporter": "python",
   "pygments_lexer": "ipython3",
   "version": "3.12.6"
  }
 },
 "nbformat": 4,
 "nbformat_minor": 5
}
